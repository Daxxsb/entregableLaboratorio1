{
 "cells": [
  {
   "cell_type": "markdown",
   "metadata": {},
   "source": [
    "# Ejercicios de Laboratorio David Salamanca"
   ]
  },
  {
   "cell_type": "markdown",
   "metadata": {},
   "source": [
    "## Ejercicio 1: Adición de vectores complejos\n",
    "1. Calcula manualmente y luego verifica usando Python el resultado de `(3 + 4j) + (1 - 2j)`, `(5 + 6j) * (7 - 8j)` y `(2 - 3j) / (1 + 4j)`.\n",
    "2. Dado dos vectores complejos \n",
    "$ v1 = \\begin{bmatrix} 1 + 2i \\\\ 3 - i \\end{bmatrix} $ \n",
    "y \n",
    "$ v2 = \\begin{bmatrix} 2 - i \\\\ 4 + 2i \\end{bmatrix} $, \n",
    "encuentra su suma.\n"
   ]
  },
  {
   "cell_type": "code",
   "execution_count": 64,
   "metadata": {},
   "outputs": [
    {
     "name": "stdout",
     "output_type": "stream",
     "text": [
      "Addition Complex number: (4+2j)\n",
      "Adittion complex vector:\n",
      " [[3.+1.j]\n",
      " [7.+1.j]]\n"
     ]
    }
   ],
   "source": [
    "import numpy as np\n",
    "\n",
    "c1 = complex(3, 4)\n",
    "c2 = complex(1, -2)\n",
    "print(\"Addition Complex number:\", c1 + c2)\n",
    "\n",
    "v1 = np.array([[1+2j], [3-1j]])\n",
    "v2 = np.array([[2-1j], [4+2j]])\n",
    "sum_v = v1 + v2\n",
    "print(\"Adittion complex vector:\\n\", sum_v)"
   ]
  },
  {
   "cell_type": "markdown",
   "metadata": {},
   "source": [
    "## Ejercicio 2: Inverso (aditivo) de un vector complejo\n",
    "1. Dado un vector complejo \n",
    "$ v = \\begin{bmatrix} 2 + 3i \\\\ 1 - 2i \\end{bmatrix} $, \n",
    "encuentra su negación.\n"
   ]
  },
  {
   "cell_type": "code",
   "execution_count": 63,
   "metadata": {},
   "outputs": [
    {
     "name": "stdout",
     "output_type": "stream",
     "text": [
      "Negation complex vector:\n",
      " [[-2.-3.j]\n",
      " [-1.+2.j]]\n"
     ]
    }
   ],
   "source": [
    "import numpy as np\n",
    "\n",
    "v1 = np.array([[2 + 3j], [1-2j]])\n",
    "neg_v1 = -v1\n",
    "print(\"Negation complex vector:\\n\", neg_v1)"
   ]
  },
  {
   "cell_type": "markdown",
   "metadata": {},
   "source": [
    "## Ejercicio 3: Multiplicación de un escalar por una matriz compleja \n",
    "1. Multiplica el vector complejo \n",
    "$ v = \\begin{bmatrix} 1 - i \\\\ 2 + 2i \\end{bmatrix} $ \n",
    "por el escalar complejo $ 3 + i $."
   ]
  },
  {
   "cell_type": "code",
   "execution_count": 62,
   "metadata": {},
   "outputs": [
    {
     "name": "stdout",
     "output_type": "stream",
     "text": [
      "Multiplication by a scalar:\n",
      " [[4.-2.j]\n",
      " [4.+8.j]]\n"
     ]
    }
   ],
   "source": [
    "import numpy as np\n",
    "\n",
    "v1 = np.array([[1 - 1j], [2 + 2j]])\n",
    "scalar = complex(3, 1)\n",
    "mult_v1_scalar = v1 * scalar\n",
    "print(\"Multiplication by a scalar:\\n\", mult_v1_scalar)"
   ]
  },
  {
   "cell_type": "markdown",
   "metadata": {},
   "source": [
    "## Ejercicio 4: Adición de matrices complejas\n",
    "1. Dadas dos matrices complejas \n",
    "$ m1 = \\begin{bmatrix} 1 + i & 2 - i \\\\ 3 + 2i & 4 \\end{bmatrix} $\n",
    "y \n",
    "$ m2 = \\begin{bmatrix} 2 - 3i & 1 \\\\ i & 2 + 2i \\end{bmatrix} $, \n",
    "calcula su suma.\n"
   ]
  },
  {
   "cell_type": "code",
   "execution_count": 61,
   "metadata": {},
   "outputs": [
    {
     "name": "stdout",
     "output_type": "stream",
     "text": [
      "Sum of Two complex matrices:\n",
      " [[3.+1.j]\n",
      " [7.+1.j]]\n"
     ]
    }
   ],
   "source": [
    "import numpy as np\n",
    "\n",
    "m1 = np.array([[1 + 1j, 2 - 1j], [3 + 2j, 2 + 0j]])\n",
    "m2 = np.array([[2 - 3j, 1 + 0j], [0 + 1j, 2 + 2j]])\n",
    "sum_m = m1 + m2\n",
    "print(\"Sum of Two complex matrices:\\n\", sum_v)"
   ]
  },
  {
   "cell_type": "markdown",
   "metadata": {},
   "source": [
    "## Ejercicio 5: Inversa (aditiva) de una matriz compleja\n",
    "\n",
    "1. Encuentra la negación de la matriz compleja \n",
    "$ m = \\begin{bmatrix} 2 + i & 3 \\\\ 1 - i & 2 + 2i \\end{bmatrix} $."
   ]
  },
  {
   "cell_type": "code",
   "execution_count": 60,
   "metadata": {},
   "outputs": [
    {
     "name": "stdout",
     "output_type": "stream",
     "text": [
      "Negation of a complex matrix:\n",
      " [[-2.-1.j -3.-0.j]\n",
      " [-1.+1.j -2.-2.j]]\n"
     ]
    }
   ],
   "source": [
    "import numpy as np\n",
    "\n",
    "m1 = np.array([[2 + 1j, 3 + 0j], [1 - 1j, 2 + 2j]])\n",
    "neg_m1 = -m1\n",
    "print(\"Negation of a complex matrix:\\n\", neg_m1)"
   ]
  },
  {
   "cell_type": "markdown",
   "metadata": {},
   "source": [
    "## Ejercicio 6: Multiplicación de un escalar por una matriz compleja\n",
    "1. Multiplica la matriz compleja \n",
    "$ m = \\begin{bmatrix} 1 - i & 2 \\\\ 3 + i & 4 - 2i \\end{bmatrix} $ \n",
    "por el escalar complejo $ 2 + 3i $."
   ]
  },
  {
   "cell_type": "code",
   "execution_count": 59,
   "metadata": {},
   "outputs": [
    {
     "name": "stdout",
     "output_type": "stream",
     "text": [
      "Multiplication of a complex matrix by a scalar:\n",
      " [[ 5. +1.j  4. +6.j]\n",
      " [ 3.+11.j 14. +8.j]]\n"
     ]
    }
   ],
   "source": [
    "import numpy as np\n",
    "\n",
    "m1 = np.array([[1 - 1j, 2 + 0j], [3 + 1j, 4 - 2j]])\n",
    "scalar = complex(2, 3)\n",
    "mult_m1_scalar = m1 * scalar\n",
    "print(\"Multiplication of a complex matrix by a scalar:\\n\", mult_m1_scalar)"
   ]
  },
  {
   "cell_type": "markdown",
   "metadata": {},
   "source": [
    "## Ejercicio 7: Transpuesta de una matriz - vector\n",
    "1. Encuentra la transpuesta del vector complejo \n",
    "$ v = \\begin{bmatrix} 2 - i \\\\ 3 + 4i \\end{bmatrix} $.\n",
    "\n",
    "2. Encuentra la transpuesta de la matriz compleja \n",
    "$ m = \\begin{bmatrix} 1 - i & 2 + 2i \\\\ 3 & 4 - i \\end{bmatrix} $."
   ]
  },
  {
   "cell_type": "code",
   "execution_count": 58,
   "metadata": {},
   "outputs": [
    {
     "name": "stdout",
     "output_type": "stream",
     "text": [
      "Transpose of a complex vector: [[2.-1.j 3.+4.j]]\n",
      "Transpose of a complex matrix:\n",
      " [[1.-1.j 3.+0.j]\n",
      " [2.+2.j 4.-1.j]]\n"
     ]
    }
   ],
   "source": [
    "import numpy as np\n",
    "\n",
    "v1 = np.array([[2 - 1j], [3 + 4j]])\n",
    "transpose_v1 = v1.T\n",
    "print (\"Transpose of a complex vector:\", transpose_v1)\n",
    "\n",
    "m1 = np.array([[1 - 1j, 2 + 2j], [3 + 0j, 4 - 1j]])\n",
    "transpose_m1 = m1.T\n",
    "print(\"Transpose of a complex matrix:\\n\", transpose_m1)"
   ]
  },
  {
   "cell_type": "markdown",
   "metadata": {},
   "source": [
    "## Ejercicio 8: Conjugada de una matriz - vector\n",
    "1. Calcula el conjugado del vector complejo \n",
    "$ v = \\begin{bmatrix} 1 + i \\\\ 2 - 3i \\end{bmatrix} $.\n",
    "\n",
    "2. Calcula el conjugado de la matriz compleja \n",
    "$ m = \\begin{bmatrix} 1 + i & 2 \\\\ 3 - i & 4 + 2i \\end{bmatrix} $."
   ]
  },
  {
   "cell_type": "code",
   "execution_count": 57,
   "metadata": {},
   "outputs": [
    {
     "name": "stdout",
     "output_type": "stream",
     "text": [
      "Conjugate of a complex vector:\n",
      " [[1.-1.j]\n",
      " [2.+3.j]]\n",
      "Conjugate of a complex matrix:\n",
      " [[1.-1.j 2.-0.j]\n",
      " [3.+1.j 4.-2.j]]\n"
     ]
    }
   ],
   "source": [
    "import numpy as np\n",
    "\n",
    "v1 = np.array([[1 + 1j], [2 - 3j]])\n",
    "conjugate_v1 = np.conjugate(v1)\n",
    "print(\"Conjugate of a complex vector:\\n\", conjugate_v1)\n",
    "\n",
    "m1 = np.array([[1 + 1j, 2 + 0j], [3 - 1j, 4 + 2j]])\n",
    "conjugate_m1 = np.conjugate(m1)\n",
    "print(\"Conjugate of a complex matrix:\\n\", conjugate_m1)"
   ]
  },
  {
   "cell_type": "markdown",
   "metadata": {},
   "source": [
    "## Ejercicio 9: Adjunta (daga) de una matriz - vector\n",
    "1. Encuentra el adjunto (o transpuesta conjugada) del vector complejo \n",
    "$ v = \\begin{bmatrix} 1 - 2i \\\\ 3 + i \\end{bmatrix} $.\n",
    "\n",
    "2. Calcula el adjunto (o transpuesta conjugada) de la matriz compleja \n",
    "$ m = \\begin{bmatrix} 1 + 2i & 3 - i \\\\ 4 & 5 + i \\end{bmatrix} $."
   ]
  },
  {
   "cell_type": "code",
   "execution_count": 56,
   "metadata": {},
   "outputs": [
    {
     "name": "stdout",
     "output_type": "stream",
     "text": [
      "Adjunct (conjugate transpose) of a complex vector: [[1.+2.j 2.-1.j]]\n",
      "Adjunct (conjugate transpose) of a complex matrix:\n",
      " [[1.-2.j 4.-0.j]\n",
      " [3.+1.j 5.-1.j]]\n"
     ]
    }
   ],
   "source": [
    "import numpy as np\n",
    "\n",
    "v1 = np.array([[1 - 2j], [2 + 1j]])\n",
    "adjunct_v1 = v1.T.conj()\n",
    "print(\"Adjunct (conjugate transpose) of a complex vector:\", adjunct_v1)\n",
    "\n",
    "m1 = np.array([[1+ 2j, 3 - 1j], [4 + 0j, 5 + 1j]])\n",
    "adjunct_m1 = m1.T.conj()\n",
    "print(\"Adjunct (conjugate transpose) of a complex matrix:\\n\", adjunct_m1)"
   ]
  },
  {
   "cell_type": "markdown",
   "metadata": {},
   "source": [
    "## Ejercicio 10: Producto de dos matrices (de tamaños compatibles)\n",
    "1. Multiplica la matriz cuadrada compleja \n",
    "$ m = \\begin{bmatrix} 1 + i & 2 - i \\\\ 3 & 4 + i \\end{bmatrix} $ \n",
    "por el vector columna complejo \n",
    "$ v = \\begin{bmatrix} 2 - i & 1 + 3i \\\\ 1 + 3i & 2 - i \\end{bmatrix} $."
   ]
  },
  {
   "cell_type": "code",
   "execution_count": 55,
   "metadata": {},
   "outputs": [
    {
     "name": "stdout",
     "output_type": "stream",
     "text": [
      "Multiplying a 2x2 matrix by a 2x2 matrix:\n",
      " [[ 8. +6.j  1. +0.j]\n",
      " [ 7.+10.j 12. +7.j]]\n"
     ]
    }
   ],
   "source": [
    "import numpy as np\n",
    "\n",
    "m1 = np.array([[1 + 1j, 2 - 1j], [3 + 0j, 4 + 1j]])\n",
    "m2 = np.array([[2 - 1j, 1 + 3j], [1 + 3j, 2 - 1j]])\n",
    "result = np.dot(m1, m2)\n",
    "print(\"Multiplying a 2x2 matrix by a 2x2 matrix:\\n\", result)"
   ]
  },
  {
   "cell_type": "markdown",
   "metadata": {},
   "source": [
    "## Ejercicio 11: Función para calcular la \"acción\" de unaa matriz sobre un vector\n",
    "1. Multiplica la matriz cuadrada compleja \n",
    "$ m = \\begin{bmatrix} 1 + i & 2 - i \\\\ 3 & 4 + i \\end{bmatrix} $ \n",
    "por el vector columna complejo \n",
    "$ v = \\begin{bmatrix} 2 - i \\\\ 1 + 3i \\end{bmatrix} $."
   ]
  },
  {
   "cell_type": "code",
   "execution_count": 54,
   "metadata": {},
   "outputs": [
    {
     "name": "stdout",
     "output_type": "stream",
     "text": [
      "Multiplying a 2x2 matrix by a 2x1 vector:\n",
      " [[8. +6.j]\n",
      " [7.+10.j]]\n"
     ]
    }
   ],
   "source": [
    "import numpy as np\n",
    "\n",
    "def action(matrix, vector):\n",
    "    result = np.dot(matrix, vector)\n",
    "    return result\n",
    "m1 = np.array([[1 + 1j, 2 - 1j], [3 + 0j, 4 + 1j]])\n",
    "v1 = np.array([[2 - 1j], [1 + 3j]])\n",
    "print(\"Multiplying a 2x2 matrix by a 2x1 vector:\\n\", action(m1, v1))"
   ]
  },
  {
   "cell_type": "markdown",
   "metadata": {},
   "source": [
    "## Ejercicio 12: Producto interno de dos vectores\n",
    "1. Dado dos vectores columna complejos:$$ \\mathbf{a} = \\begin{bmatrix} 1 + 2i \\\\ 3 - 4i \\end{bmatrix}, \\quad \\mathbf{b} = \\begin{bmatrix} 2 - i \\\\ -1 + 3i \\end{bmatrix} $$ Calcula el producto interno complejo $ \\langle \\mathbf{a}, \\mathbf{b} \\rangle $.\n",
    "\n"
   ]
  },
  {
   "cell_type": "code",
   "execution_count": 46,
   "metadata": {},
   "outputs": [
    {
     "name": "stdout",
     "output_type": "stream",
     "text": [
      "Complex internal product: (-15+0j)\n"
     ]
    }
   ],
   "source": [
    "import numpy as np\n",
    "\n",
    "vA = np.array([[1 + 2j], [3 - 4j]])\n",
    "vB = np.array([[2 - 1j], [-1 + 3j]])\n",
    "complex_internal_product_vector = np.vdot(vA, vB)\n",
    "print(\"Complex internal product:\", complex_internal_product_vector)"
   ]
  },
  {
   "cell_type": "markdown",
   "metadata": {},
   "source": [
    "## Ejercicio 13: Norma de un vector\n",
    "1. Dado el vector complejo: $$ \\mathbf{a} = \\begin{bmatrix} 1 + 2i \\\\ 3 - 4i \\end{bmatrix} $$ Calcula la norma del vector complejo:"
   ]
  },
  {
   "cell_type": "code",
   "execution_count": 50,
   "metadata": {},
   "outputs": [
    {
     "name": "stdout",
     "output_type": "stream",
     "text": [
      "Norma complex vector: 5.5\n"
     ]
    }
   ],
   "source": [
    "import numpy as np\n",
    "\n",
    "def normaComplexVector(v):\n",
    "    return np.linalg.norm(v)\n",
    "v = np.array([[1 + 2j], [3 - 4j]])\n",
    "print(\"Norma complex vector:\", round(normaComplexVector(v), 1))"
   ]
  },
  {
   "cell_type": "markdown",
   "metadata": {},
   "source": [
    "## Ejercicio 14: Distancia entre dos vectores\n",
    "1. Dado dos vectores complejos: $$ \\mathbf{a} = \\begin{bmatrix} 1 + 2i \\\\ 3 - 4i \\end{bmatrix}, \\quad \\mathbf{b} = \\begin{bmatrix} 2 - i \\\\ -1 + 3i \\end{bmatrix} $$ Calcula la distancia entre los dos vectores complejos:\n",
    "\n"
   ]
  },
  {
   "cell_type": "code",
   "execution_count": 52,
   "metadata": {},
   "outputs": [
    {
     "name": "stdout",
     "output_type": "stream",
     "text": [
      "Distance between two vectors: 8.7\n"
     ]
    }
   ],
   "source": [
    "import numpy as np\n",
    "\n",
    "vA = np.array([[1 + 2j], [3 - 4j]])\n",
    "vB = np.array([[2 - 1j], [-1 + 3j]])\n",
    "dist = np.linalg.norm(vA - vB)\n",
    "print(\"Distance between two vectors:\", round(dist, 1))"
   ]
  },
  {
   "cell_type": "markdown",
   "metadata": {},
   "source": [
    "## Ejercicio 15: Valores y vectores propios de una matriz\n",
    "1. Calcula los valores propios y los vectores propios de la siguiente matriz compleja: $$ B = \\begin{pmatrix} 1 + 2i & 2 + 3i \\\\ 4 + 5i & 6 + 7i \\end{pmatrix} $$ donde \\(i\\) es la unidad imaginaria. **Sugerencia:** Asegúrate de que tu matriz esté definida con números complejos en Python usando `dtype=complex`.\n"
   ]
  },
  {
   "cell_type": "code",
   "execution_count": 53,
   "metadata": {},
   "outputs": [
    {
     "name": "stdout",
     "output_type": "stream",
     "text": [
      "Eigenvalues: [-0.25519526-0.09363597j  7.25519526+9.09363597j]\n",
      "Eigenvectors:\n",
      " [[ 0.8280679 +0.j          0.35299759+0.04782692j]\n",
      " [-0.559984  -0.02686037j  0.93440103+0.j        ]]\n"
     ]
    }
   ],
   "source": [
    "import numpy as np\n",
    "\n",
    "b = np.array([[1 + 2j, 2 + 3j], [4 + 5j, 6 + 7j]])\n",
    "eigenvalues, eigenvectors = np.linalg.eig(b)\n",
    "print(\"Eigenvalues:\", eigenvalues)\n",
    "print(\"Eigenvectors:\\n\", eigenvectors)"
   ]
  },
  {
   "cell_type": "markdown",
   "metadata": {},
   "source": [
    "## Ejercicio 16: Revisar si es una matriz unitaria\n",
    "1. Considera la matriz: $$ U = \\frac{1}{\\sqrt{2}}\\begin{bmatrix} 1 & i \\\\ i & 1 \\end{bmatrix} $$ Verifica si \\( U \\) es una matriz unitaria.\n"
   ]
  },
  {
   "cell_type": "code",
   "execution_count": 68,
   "metadata": {},
   "outputs": [
    {
     "name": "stdout",
     "output_type": "stream",
     "text": [
      "Is unitary?: True\n"
     ]
    }
   ],
   "source": [
    "unitary_matrix = np.array([[1/np.sqrt(2), 1j/np.sqrt(2)], [1j/np.sqrt(2), 1/np.sqrt(2)]])\n",
    "is_unitary = np.allclose(np.dot(unitary_matrix, unitary_matrix.conj().T), np.eye(2))\n",
    "print(\"Is unitary?:\", is_unitary)"
   ]
  },
  {
   "cell_type": "markdown",
   "metadata": {},
   "source": [
    "## Ejercicio 17: Revisar si una matriz es Hermitiana\n",
    "1. Considera la matriz: $$ H = \\begin{bmatrix} 3 & 2+i \\\\ 2-i & 1 \\end{bmatrix} $$ Verifica si \\( H \\) es una matriz hermítica.\n"
   ]
  },
  {
   "cell_type": "code",
   "execution_count": 71,
   "metadata": {},
   "outputs": [
    {
     "name": "stdout",
     "output_type": "stream",
     "text": [
      "Is Hermitian?: True\n"
     ]
    }
   ],
   "source": [
    "import numpy as np\n",
    "\n",
    "hermitian_matrix = np.array([[3 + 0j, 2 + 1j], [2 - 1j, 1 + 0j]])\n",
    "is_hermitian = np.allclose(hermitian_matrix, hermitian_matrix.conj().T)\n",
    "print(\"Is Hermitian?:\", is_hermitian)"
   ]
  },
  {
   "cell_type": "markdown",
   "metadata": {},
   "source": [
    "## Ejercicio 18: Producto tensor de dos matrices - vectores\n",
    "1. Dado los vectores complejos: $$ \\mathbf{v} = \\begin{bmatrix} 1+i \\\\ 2-i \\end{bmatrix}, \\quad \\mathbf{w} = \\begin{bmatrix} 1-2i \\\\ 3 \\end{bmatrix} $$ Calcula el producto tensorial \\( \\mathbf{v} \\otimes \\mathbf{w} \\).\n",
    "\n",
    "2. Dadas las matrices: $$ M_1 = \\begin{bmatrix} 0 & 1 \\\\ 1 & 0 \\end{bmatrix}, \\quad M_2 = \\begin{bmatrix} i & 0 \\\\ 0 & -i \\end{bmatrix} $$ Calcula el producto tensorial \\( M_1 \\otimes M_2 \\)."
   ]
  },
  {
   "cell_type": "code",
   "execution_count": 75,
   "metadata": {},
   "outputs": [
    {
     "name": "stdout",
     "output_type": "stream",
     "text": [
      "Tensor product between two vectors:\n",
      " [[3.-1.j 3.+3.j]\n",
      " [0.-5.j 6.-3.j]]\n",
      "Tensor product between two matrices:\n",
      " [[ 0.+0.j  0.+0.j  0.+1.j  0.+0.j]\n",
      " [ 0.+0.j -0.+0.j  0.+0.j -1.+0.j]\n",
      " [ 0.+1.j  0.+0.j  0.+0.j  0.+0.j]\n",
      " [ 0.+0.j -1.+0.j  0.+0.j -0.+0.j]]\n"
     ]
    }
   ],
   "source": [
    "import numpy as np\n",
    "\n",
    "v1 = np.array([[1 + 1j], [2 - 1j]])\n",
    "v2 = np.array([1 - 2j, 3 + 0j])\n",
    "tensor_product_v = np.kron(v1, v2)\n",
    "print(\"Tensor product between two vectors:\\n\", tensor_product_v)\n",
    "\n",
    "m1 = np.array([[0, 1], [1, 0]])\n",
    "m2 = np.array([[0 + 1j, 0 + 0j], [0 + 0j, -1 + 0j]])\n",
    "tensor_product_m = np.kron(m1, m2)\n",
    "print(\"Tensor product between two matrices:\\n\", tensor_product_m)"
   ]
  }
 ],
 "metadata": {
  "kernelspec": {
   "display_name": "Python 3",
   "language": "python",
   "name": "python3"
  },
  "language_info": {
   "codemirror_mode": {
    "name": "ipython",
    "version": 3
   },
   "file_extension": ".py",
   "mimetype": "text/x-python",
   "name": "python",
   "nbconvert_exporter": "python",
   "pygments_lexer": "ipython3",
   "version": "3.12.3"
  }
 },
 "nbformat": 4,
 "nbformat_minor": 2
}
